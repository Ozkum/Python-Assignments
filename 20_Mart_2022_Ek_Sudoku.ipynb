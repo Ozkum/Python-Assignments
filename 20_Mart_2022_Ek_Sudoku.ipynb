{
  "nbformat": 4,
  "nbformat_minor": 0,
  "metadata": {
    "colab": {
      "name": "20 Mart 2022 Ek Sudoku.ipynb",
      "provenance": [],
      "collapsed_sections": [],
      "authorship_tag": "ABX9TyOsg1QESO54pdBBHQGiodFf",
      "include_colab_link": true
    },
    "kernelspec": {
      "name": "python3",
      "display_name": "Python 3"
    },
    "language_info": {
      "name": "python"
    }
  },
  "cells": [
    {
      "cell_type": "markdown",
      "metadata": {
        "id": "view-in-github",
        "colab_type": "text"
      },
      "source": [
        "<a href=\"https://colab.research.google.com/github/Ozkum/Python-Assignments/blob/master/20_Mart_2022_Ek_Sudoku.ipynb\" target=\"_parent\"><img src=\"https://colab.research.google.com/assets/colab-badge.svg\" alt=\"Open In Colab\"/></a>"
      ]
    },
    {
      "cell_type": "code",
      "execution_count": null,
      "metadata": {
        "id": "o2Kko-SigbJu"
      },
      "outputs": [],
      "source": [
        "import random as rd"
      ]
    },
    {
      "cell_type": "code",
      "source": [
        "def check_valid(grid, row, col, num):\n",
        "  valid = True\n",
        "  for i in range(9):\n",
        "    if grid[i][col] == [num]:\n",
        "      valid = False\n",
        "    for j in range(9):\n",
        "      if grid[row][j] == num:\n",
        "        valid == False\n",
        "\n",
        "  row_sec = row // 3\n",
        "  col_sec = col // 3\n",
        "\n",
        "  for i in range(3):\n",
        "    for j in range(3):\n",
        "      if grid[row_sec*3 + i][col_sec*3 + j] == num:\n",
        "        valid = False\n",
        "\n",
        "  return valid"
      ],
      "metadata": {
        "id": "KIvhNIk3l1Vt"
      },
      "execution_count": null,
      "outputs": []
    },
    {
      "cell_type": "code",
      "source": [
        "def gridprint(grid):\n",
        "    for i in range(len(grid) + 1):\n",
        "        if i % 3 == 0:\n",
        "            print(\" -\" * (len((grid[0])) + 7))\n",
        "        if i == 9:\n",
        "            break\n",
        "        for j in range(len(grid[i]) + 1):\n",
        "            if (j) % 3 == 0:\n",
        "                print(\" | \", end=\" \")\n",
        "            if j == 9:\n",
        "                break\n",
        "            print(grid[i][j], end=\" \")\n",
        "        print()"
      ],
      "metadata": {
        "id": "E2KMoLJRs0SV"
      },
      "execution_count": null,
      "outputs": []
    },
    {
      "cell_type": "code",
      "source": [
        "def sudoku():\n",
        "  grid =[[\"_\" for x in range(9)]for y in range(9)]\n",
        "  \n",
        "  print(\"Welcome to sudoku puzzle creator...\")\n",
        "  inp1 = input(\"Write the hardness level you want. Hard(h), normal(n) or easy(e): \").lower().strip()\n",
        "\n",
        "  while inp1:\n",
        "    if inp1 == 'h':\n",
        "      hardness = 10\n",
        "      break\n",
        "    elif inp1 == \"n\":\n",
        "      hardness = 15\n",
        "      break\n",
        "    elif inp1 == \"e\":\n",
        "      hardness = 20\n",
        "      break\n",
        "    else:\n",
        "      inp = input(\"invalid character. Please us h , n or e...\").lower().strip()\n",
        "  \n",
        "  for i in range(hardness):\n",
        "    row = rd.randrange(9)\n",
        "    col = rd.randrange(9)\n",
        "    num = rd. randrange(1,10)\n",
        "    while not check_valid(grid, row, col, num) or grid[row][col] != \"_\":\n",
        "      row = rd.randrange(9)\n",
        "      col = rd.randrange(9)\n",
        "      num = rd. randrange(1,10)\n",
        "    grid[row][col] = num\n",
        "\n",
        "  gridprint(grid)\n",
        "\n"
      ],
      "metadata": {
        "id": "8IyZj9gehN1f"
      },
      "execution_count": null,
      "outputs": []
    },
    {
      "cell_type": "code",
      "source": [
        "sudoku()"
      ],
      "metadata": {
        "colab": {
          "base_uri": "https://localhost:8080/"
        },
        "id": "au8dskFviFR9",
        "outputId": "ded73cfb-36f7-4968-9e49-ccdbf91630cc"
      },
      "execution_count": null,
      "outputs": [
        {
          "output_type": "stream",
          "name": "stdout",
          "text": [
            "Welcome to sudoku puzzle creator...\n",
            "Write the hardness level you want. Hard(h), normal(n) or easy(e): n\n",
            " - - - - - - - - - - - - - - - -\n",
            " |  _ _ _  |  _ _ _  |  _ _ _  |  \n",
            " |  _ _ _  |  _ 5 _  |  _ _ _  |  \n",
            " |  _ 3 9  |  7 _ _  |  1 _ _  |  \n",
            " - - - - - - - - - - - - - - - -\n",
            " |  _ _ _  |  _ _ _  |  _ _ 2  |  \n",
            " |  _ _ _  |  _ 9 _  |  _ _ _  |  \n",
            " |  _ _ _  |  _ _ _  |  _ 4 _  |  \n",
            " - - - - - - - - - - - - - - - -\n",
            " |  7 4 _  |  _ _ _  |  4 _ 1  |  \n",
            " |  5 6 _  |  _ _ _  |  _ _ 9  |  \n",
            " |  _ _ _  |  _ _ _  |  _ _ _  |  \n",
            " - - - - - - - - - - - - - - - -\n"
          ]
        }
      ]
    },
    {
      "cell_type": "code",
      "source": [
        ""
      ],
      "metadata": {
        "id": "lCwRTHggtAEQ"
      },
      "execution_count": null,
      "outputs": []
    }
  ]
}